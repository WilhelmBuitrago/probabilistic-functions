{
 "cells": [
  {
   "cell_type": "markdown",
   "id": "1512940f",
   "metadata": {},
   "source": [
    "# View Summary of distribution"
   ]
  },
  {
   "cell_type": "markdown",
   "id": "e7037106",
   "metadata": {},
   "source": [
    "To view the summary of a variable, use the __call__ method."
   ]
  },
  {
   "cell_type": "code",
   "execution_count": 1,
   "id": "ae126718",
   "metadata": {},
   "outputs": [],
   "source": [
    "from probabilistic_functions.core import Bernulli"
   ]
  },
  {
   "cell_type": "markdown",
   "id": "020d7fef",
   "metadata": {},
   "source": [
    "## First way"
   ]
  },
  {
   "cell_type": "code",
   "execution_count": 2,
   "id": "2cecb9f7",
   "metadata": {},
   "outputs": [
    {
     "data": {
      "text/latex": [
       "$\\displaystyle \n",
       "        \\textbf{\\Large Bernoulli distribution} \\\\[6pt]\n",
       "        \\text{Distribution mode:} \\quad Discrete \\\\[6pt]\n",
       "        \\text{Support:} \\quad x \\in \\left\\{0, 1\\right\\} \\\\[6pt]\n",
       "        \\text{Parameters support:} \\quad \\theta \\in \\left[0, 1\\right] \\\\[6pt]\n",
       "        \\text{Function probability:} \\quad \\theta^{x} \\left(1 - \\theta\\right)^{1 - x} \\\\[6pt]\n",
       "        \\text{Generating function moment:} \\quad \\theta e^{t} - \\theta + 1 \\\\[6pt]\n",
       "        \\text{Cumulative distribution function:} \\quad \\begin{cases} \\frac{x}{2} + \\frac{1}{2} & \\text{for}\\: \\theta = \\frac{1}{2} \\\\\\frac{- \\theta^{2} + 2 \\theta + \\theta^{x + 1} \\left(1 - \\theta\\right)^{1 - x} - 1}{2 \\theta - 1} & \\text{otherwise} \\end{cases} \\\\[6pt]\n",
       "        \\text{Survival function:} \\quad \\begin{cases} \\frac{1 - x}{2} & \\text{for}\\: \\theta = \\frac{1}{2} \\\\\\frac{\\theta \\left(\\theta - \\theta^{x} \\left(1 - \\theta\\right)^{1 - x}\\right)}{2 \\theta - 1} & \\text{otherwise} \\end{cases} \\\\[6pt]\n",
       "        \\text{Hazard function:} \\quad \\begin{cases} - \\frac{1}{x - 1} & \\text{for}\\: \\theta = \\frac{1}{2} \\\\\\frac{\\theta^{x - 1} \\left(1 - \\theta\\right)^{1 - x} \\left(2 \\theta - 1\\right)}{\\theta - \\theta^{x} \\left(1 - \\theta\\right)^{1 - x}} & \\text{otherwise} \\end{cases} \\\\[6pt]\n",
       "        \\text{Expected value:} \\quad \\theta \\\\[6pt]\n",
       "        \\text{Variance:} \\quad \\theta \\left(1 - \\theta\\right)\n",
       "        $"
      ],
      "text/plain": [
       "<IPython.core.display.Math object>"
      ]
     },
     "metadata": {},
     "output_type": "display_data"
    }
   ],
   "source": [
    "Bernulli()()"
   ]
  },
  {
   "cell_type": "code",
   "execution_count": 12,
   "id": "fd1e06e9",
   "metadata": {},
   "outputs": [
    {
     "data": {
      "text/latex": [
       "$\\displaystyle \\begin{cases} \\frac{x}{2} + \\frac{1}{2} & \\text{for}\\: \\theta = \\frac{1}{2} \\\\- \\frac{\\theta^{2}}{2 \\theta - 1} + \\frac{\\theta \\theta^{x} \\left(1 - \\theta\\right)^{1 - x}}{2 \\theta - 1} + \\frac{2 \\theta}{2 \\theta - 1} - \\frac{1}{2 \\theta - 1} & \\text{otherwise} \\end{cases}$"
      ],
      "text/plain": [
       "Piecewise((x/2 + 1/2, Eq(theta, 1/2)), (-theta**2/(2*theta - 1) + theta*theta**x*(1 - theta)**(1 - x)/(2*theta - 1) + 2*theta/(2*theta - 1) - 1/(2*theta - 1), True))"
      ]
     },
     "execution_count": 12,
     "metadata": {},
     "output_type": "execute_result"
    }
   ],
   "source": [
    "from sympy import symbols, summation, floor, factor\n",
    "(summation(Bernulli().PMF(), (Bernulli().x, 0, floor(Bernulli().x)))).factor()"
   ]
  },
  {
   "cell_type": "code",
   "execution_count": null,
   "id": "49fa1f30",
   "metadata": {},
   "outputs": [],
   "source": []
  },
  {
   "cell_type": "markdown",
   "id": "2fad333e",
   "metadata": {},
   "source": [
    "## Second way"
   ]
  },
  {
   "cell_type": "code",
   "execution_count": 4,
   "id": "e58ac43b",
   "metadata": {},
   "outputs": [
    {
     "data": {
      "text/latex": [
       "$\\displaystyle \n",
       "        \\textbf{\\Large Bernoulli distribution} \\\\[6pt]\n",
       "        \\text{Distribution mode:} \\quad Discrete \\\\[6pt]\n",
       "        \\text{Support:} \\quad x \\in \\left\\{0, 1\\right\\} \\\\[6pt]\n",
       "        \\text{Parameters support:} \\quad \\theta \\in \\left[0, 1\\right] \\\\[6pt]\n",
       "        \\text{Function probability:} \\quad \\theta^{x} \\left(1 - \\theta\\right)^{1 - x} \\\\[6pt]\n",
       "        \\text{Generating function moment:} \\quad \\theta e^{t} - \\theta + 1 \\\\[6pt]\n",
       "        \\text{Cumulative distribution function:} \\quad \\begin{cases} \\frac{x}{2} + \\frac{1}{2} & \\text{for}\\: \\theta = \\frac{1}{2} \\\\\\frac{- \\theta^{2} + 2 \\theta + \\theta^{x + 1} \\left(1 - \\theta\\right)^{1 - x} - 1}{2 \\theta - 1} & \\text{otherwise} \\end{cases} \\\\[6pt]\n",
       "        \\text{Survival function:} \\quad \\begin{cases} \\frac{1 - x}{2} & \\text{for}\\: \\theta = \\frac{1}{2} \\\\\\frac{\\theta \\left(\\theta - \\theta^{x} \\left(1 - \\theta\\right)^{1 - x}\\right)}{2 \\theta - 1} & \\text{otherwise} \\end{cases} \\\\[6pt]\n",
       "        \\text{Hazard function:} \\quad \\begin{cases} - \\frac{1}{x - 1} & \\text{for}\\: \\theta = \\frac{1}{2} \\\\\\frac{\\theta^{x - 1} \\left(1 - \\theta\\right)^{1 - x} \\left(2 \\theta - 1\\right)}{\\theta - \\theta^{x} \\left(1 - \\theta\\right)^{1 - x}} & \\text{otherwise} \\end{cases} \\\\[6pt]\n",
       "        \\text{Expected value:} \\quad \\theta \\\\[6pt]\n",
       "        \\text{Variance:} \\quad \\theta \\left(1 - \\theta\\right)\n",
       "        $"
      ],
      "text/plain": [
       "<IPython.core.display.Math object>"
      ]
     },
     "metadata": {},
     "output_type": "display_data"
    }
   ],
   "source": [
    "Ber = Bernulli()\n",
    "Ber()"
   ]
  },
  {
   "cell_type": "markdown",
   "id": "eac20cb3",
   "metadata": {},
   "source": [
    "# View functions for distribution"
   ]
  },
  {
   "cell_type": "markdown",
   "id": "aa1096c1",
   "metadata": {},
   "source": [
    "To view a function, simply call that function from the class."
   ]
  },
  {
   "cell_type": "markdown",
   "id": "be7441a2",
   "metadata": {},
   "source": [
    "## PDF/PMF"
   ]
  },
  {
   "cell_type": "code",
   "execution_count": 5,
   "id": "6b7fcf28",
   "metadata": {},
   "outputs": [
    {
     "data": {
      "text/latex": [
       "$\\displaystyle \\theta^{x} \\left(1 - \\theta\\right)^{1 - x}$"
      ],
      "text/plain": [
       "theta**x*(1 - theta)**(1 - x)"
      ]
     },
     "execution_count": 5,
     "metadata": {},
     "output_type": "execute_result"
    }
   ],
   "source": [
    "Bernulli().PMF()"
   ]
  },
  {
   "cell_type": "markdown",
   "id": "349787a8",
   "metadata": {},
   "source": [
    "## Generating function moment"
   ]
  },
  {
   "cell_type": "code",
   "execution_count": 6,
   "id": "bc2dd52e",
   "metadata": {},
   "outputs": [
    {
     "data": {
      "text/latex": [
       "$\\displaystyle \\theta e^{t} - \\theta + 1$"
      ],
      "text/plain": [
       "theta*exp(t) - theta + 1"
      ]
     },
     "execution_count": 6,
     "metadata": {},
     "output_type": "execute_result"
    }
   ],
   "source": [
    "Bernulli().FGM()"
   ]
  },
  {
   "cell_type": "markdown",
   "id": "4b7d513b",
   "metadata": {},
   "source": [
    "## Cumulative distribution function"
   ]
  },
  {
   "cell_type": "code",
   "execution_count": 7,
   "id": "8fb27eda",
   "metadata": {},
   "outputs": [
    {
     "data": {
      "text/latex": [
       "$\\displaystyle \\begin{cases} \\frac{x}{2} + \\frac{1}{2} & \\text{for}\\: \\theta = \\frac{1}{2} \\\\\\frac{- \\theta^{2} + 2 \\theta + \\theta^{x + 1} \\left(1 - \\theta\\right)^{1 - x} - 1}{2 \\theta - 1} & \\text{otherwise} \\end{cases}$"
      ],
      "text/plain": [
       "Piecewise((x/2 + 1/2, Eq(theta, 1/2)), ((-theta**2 + 2*theta + theta**(x + 1)*(1 - theta)**(1 - x) - 1)/(2*theta - 1), True))"
      ]
     },
     "execution_count": 7,
     "metadata": {},
     "output_type": "execute_result"
    }
   ],
   "source": [
    "Bernulli().CDF()"
   ]
  },
  {
   "cell_type": "markdown",
   "id": "48dcea6a",
   "metadata": {},
   "source": [
    "## Survival Function"
   ]
  },
  {
   "cell_type": "code",
   "execution_count": 8,
   "id": "5224be67",
   "metadata": {},
   "outputs": [
    {
     "data": {
      "text/latex": [
       "$\\displaystyle \\begin{cases} \\frac{1 - x}{2} & \\text{for}\\: \\theta = \\frac{1}{2} \\\\\\frac{\\theta \\left(\\theta - \\theta^{x} \\left(1 - \\theta\\right)^{1 - x}\\right)}{2 \\theta - 1} & \\text{otherwise} \\end{cases}$"
      ],
      "text/plain": [
       "Piecewise(((1 - x)/2, Eq(theta, 1/2)), (theta*(theta - theta**x*(1 - theta)**(1 - x))/(2*theta - 1), True))"
      ]
     },
     "execution_count": 8,
     "metadata": {},
     "output_type": "execute_result"
    }
   ],
   "source": [
    "Bernulli().SF()"
   ]
  },
  {
   "cell_type": "markdown",
   "id": "3142a115",
   "metadata": {},
   "source": [
    "## Hazard Function"
   ]
  },
  {
   "cell_type": "code",
   "execution_count": 9,
   "id": "5022af96",
   "metadata": {},
   "outputs": [
    {
     "data": {
      "text/latex": [
       "$\\displaystyle \\begin{cases} - \\frac{1}{x - 1} & \\text{for}\\: \\theta = \\frac{1}{2} \\\\\\frac{\\theta^{x - 1} \\left(1 - \\theta\\right)^{1 - x} \\left(2 \\theta - 1\\right)}{\\theta - \\theta^{x} \\left(1 - \\theta\\right)^{1 - x}} & \\text{otherwise} \\end{cases}$"
      ],
      "text/plain": [
       "Piecewise((-1/(x - 1), Eq(theta, 1/2)), (theta**(x - 1)*(1 - theta)**(1 - x)*(2*theta - 1)/(theta - theta**x*(1 - theta)**(1 - x)), True))"
      ]
     },
     "execution_count": 9,
     "metadata": {},
     "output_type": "execute_result"
    }
   ],
   "source": [
    "Bernulli().HF()"
   ]
  },
  {
   "cell_type": "markdown",
   "id": "e6d1723b",
   "metadata": {},
   "source": [
    "# Calculate momments"
   ]
  },
  {
   "cell_type": "markdown",
   "id": "26060524",
   "metadata": {},
   "source": [
    "To compute moments, simply call the calculate_moments function.\n",
    "-  Note: Some functions can be computed by integrating or differentiating, while others are simply the moment series."
   ]
  },
  {
   "cell_type": "markdown",
   "id": "a082443e",
   "metadata": {},
   "source": [
    "## First momment"
   ]
  },
  {
   "cell_type": "code",
   "execution_count": 11,
   "id": "f983973e",
   "metadata": {},
   "outputs": [
    {
     "data": {
      "text/latex": [
       "$\\displaystyle \\theta$"
      ],
      "text/plain": [
       "theta"
      ]
     },
     "execution_count": 11,
     "metadata": {},
     "output_type": "execute_result"
    }
   ],
   "source": [
    "m1 = Bernulli().calculate_moments(n=1)\n",
    "m1"
   ]
  },
  {
   "cell_type": "markdown",
   "id": "1086d3f1",
   "metadata": {},
   "source": [
    "# Second momment\n"
   ]
  },
  {
   "cell_type": "code",
   "execution_count": 13,
   "id": "e39eb414",
   "metadata": {},
   "outputs": [
    {
     "data": {
      "text/latex": [
       "$\\displaystyle \\theta$"
      ],
      "text/plain": [
       "theta"
      ]
     },
     "execution_count": 13,
     "metadata": {},
     "output_type": "execute_result"
    }
   ],
   "source": [
    "m2 = Bernulli().calculate_moments(n=2)\n",
    "m2"
   ]
  },
  {
   "cell_type": "markdown",
   "id": "42ee8a8c",
   "metadata": {},
   "source": [
    "## Variance"
   ]
  },
  {
   "cell_type": "code",
   "execution_count": 16,
   "id": "e3395480",
   "metadata": {},
   "outputs": [
    {
     "data": {
      "text/latex": [
       "$\\displaystyle \\theta \\left(1 - \\theta\\right)$"
      ],
      "text/plain": [
       "theta*(1 - theta)"
      ]
     },
     "execution_count": 16,
     "metadata": {},
     "output_type": "execute_result"
    }
   ],
   "source": [
    "(m2-pow(m1,2)).simplify()"
   ]
  }
 ],
 "metadata": {
  "kernelspec": {
   "display_name": "Dan",
   "language": "python",
   "name": "python3"
  },
  "language_info": {
   "codemirror_mode": {
    "name": "ipython",
    "version": 3
   },
   "file_extension": ".py",
   "mimetype": "text/x-python",
   "name": "python",
   "nbconvert_exporter": "python",
   "pygments_lexer": "ipython3",
   "version": "3.13.2"
  }
 },
 "nbformat": 4,
 "nbformat_minor": 5
}
